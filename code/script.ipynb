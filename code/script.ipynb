{
 "cells": [
  {
   "cell_type": "markdown",
   "metadata": {},
   "source": [
    "# new definition of state"
   ]
  },
  {
   "cell_type": "markdown",
   "metadata": {},
   "source": [
    "### +1 for increasing\n",
    "### 0 for invariable\n",
    "### -1 for decreasing"
   ]
  },
  {
   "cell_type": "code",
   "execution_count": 10,
   "metadata": {},
   "outputs": [],
   "source": [
    "rsrp_trend = [0]\n",
    "buffer_trend = [0, -1]\n",
    "avg_trend = [1, 0, -1]\n",
    "cqi_trend = [1, 0, -1]"
   ]
  },
  {
   "cell_type": "code",
   "execution_count": 1,
   "metadata": {},
   "outputs": [],
   "source": [
    "from treelib import Node, Tree\n",
    "import numpy as np"
   ]
  },
  {
   "cell_type": "code",
   "execution_count": 2,
   "metadata": {},
   "outputs": [],
   "source": [
    "tree = Tree()\n",
    "node_rsrp = Node(tag='RSRP', identifier='rsrp', data=0)\n",
    "tree.add_node(node_rsrp)  # root node\n",
    "\n",
    "node_buffer = [\n",
    "    Node(tag='buffer_-1', identifier='buffer_-1', data=-1),\n",
    "    Node(tag='buffer_0', identifier='buffer_0', data=0)\n",
    "]\n",
    "for node in node_buffer:\n",
    "    tree.add_node(node, parent='rsrp')\n",
    "    \n",
    "for parent_id in ['buffer_0', 'buffer_-1']:\n",
    "    tree.create_node(tag='avg_-1', identifier=parent_id+'avg_-1', data=-1, parent=parent_id)\n",
    "    tree.create_node(tag='avg_0', identifier=parent_id+'avg_0', data=0, parent=parent_id)\n",
    "    tree.create_node(tag='avg_1', identifier=parent_id+'avg_1', data=1, parent=parent_id) \n",
    "\n",
    "for parent_id in ['buffer_0', 'buffer_-1']:\n",
    "    for parent_idd in ['avg_-1', 'avg_0', 'avg_1']:\n",
    "        tree.create_node(tag='cqi_-1', identifier=parent_id+parent_idd+'cqi_-1', data=-1, parent=parent_id+parent_idd)\n",
    "        tree.create_node(tag='cqi_0', identifier=parent_id+parent_idd+'cqi_0', data=0, parent=parent_id+parent_idd)\n",
    "        tree.create_node(tag='cqi_1', identifier=parent_id+parent_idd+'cqi_1', data=1, parent=parent_id+parent_idd)"
   ]
  },
  {
   "cell_type": "code",
   "execution_count": 3,
   "metadata": {},
   "outputs": [
    {
     "name": "stdout",
     "output_type": "stream",
     "text": [
      "RSRP\n",
      "├── buffer_-1\n",
      "│   ├── avg_-1\n",
      "│   │   ├── cqi_-1\n",
      "│   │   ├── cqi_0\n",
      "│   │   └── cqi_1\n",
      "│   ├── avg_0\n",
      "│   │   ├── cqi_-1\n",
      "│   │   ├── cqi_0\n",
      "│   │   └── cqi_1\n",
      "│   └── avg_1\n",
      "│       ├── cqi_-1\n",
      "│       ├── cqi_0\n",
      "│       └── cqi_1\n",
      "└── buffer_0\n",
      "    ├── avg_-1\n",
      "    │   ├── cqi_-1\n",
      "    │   ├── cqi_0\n",
      "    │   └── cqi_1\n",
      "    ├── avg_0\n",
      "    │   ├── cqi_-1\n",
      "    │   ├── cqi_0\n",
      "    │   └── cqi_1\n",
      "    └── avg_1\n",
      "        ├── cqi_-1\n",
      "        ├── cqi_0\n",
      "        └── cqi_1\n",
      "\n"
     ]
    },
    {
     "data": {
      "text/plain": [
       "[[0, 0, -1, -1],\n",
       " [0, 0, -1, 0],\n",
       " [0, 0, -1, 1],\n",
       " [0, 0, 0, -1],\n",
       " [0, 0, 0, 0],\n",
       " [0, 0, 0, 1],\n",
       " [0, 0, 1, -1],\n",
       " [0, 0, 1, 0],\n",
       " [0, 0, 1, 1],\n",
       " [0, -1, -1, -1],\n",
       " [0, -1, -1, 0],\n",
       " [0, -1, -1, 1],\n",
       " [0, -1, 0, -1],\n",
       " [0, -1, 0, 0],\n",
       " [0, -1, 0, 1],\n",
       " [0, -1, 1, -1],\n",
       " [0, -1, 1, 0],\n",
       " [0, -1, 1, 1]]"
      ]
     },
     "execution_count": 3,
     "metadata": {},
     "output_type": "execute_result"
    }
   ],
   "source": [
    "tree.show()\n",
    "paths = tree.paths_to_leaves()\n",
    "\n",
    "for i in range(len(paths)):\n",
    "    for j in range(4):\n",
    "        paths[i][j] = tree.nodes[paths[i][j]].data\n",
    "paths"
   ]
  },
  {
   "cell_type": "markdown",
   "metadata": {},
   "source": [
    "## delete false states\n",
    "### buffer 0, avg 1\n",
    "### buffer 0, avg -1"
   ]
  },
  {
   "cell_type": "code",
   "execution_count": 4,
   "metadata": {},
   "outputs": [
    {
     "data": {
      "text/plain": [
       "[[0, 0, 0, -1],\n",
       " [0, 0, 0, 0],\n",
       " [0, 0, 0, 1],\n",
       " [0, -1, -1, -1],\n",
       " [0, -1, -1, 0],\n",
       " [0, -1, -1, 1],\n",
       " [0, -1, 0, -1],\n",
       " [0, -1, 0, 0],\n",
       " [0, -1, 0, 1],\n",
       " [0, -1, 1, -1],\n",
       " [0, -1, 1, 0],\n",
       " [0, -1, 1, 1]]"
      ]
     },
     "execution_count": 4,
     "metadata": {},
     "output_type": "execute_result"
    }
   ],
   "source": [
    "states = []\n",
    "for item in paths:\n",
    "    if (item[1] == 0) and (item[2] != 0):\n",
    "        continue\n",
    "    else:\n",
    "        states.append(item)\n",
    "states"
   ]
  },
  {
   "cell_type": "code",
   "execution_count": 5,
   "metadata": {},
   "outputs": [
    {
     "data": {
      "text/plain": [
       "243"
      ]
     },
     "execution_count": 5,
     "metadata": {},
     "output_type": "execute_result"
    }
   ],
   "source": [
    "state_space = []\n",
    "for i in range(len(states)):\n",
    "    for j in range(len(states)):\n",
    "        for k in range(len(states)):\n",
    "            buffer_temp = [states[i][1], states[j][1], states[k][1]]\n",
    "            if buffer_temp in [[-1,0,0], [0,-1,0], [0,0,-1]]:\n",
    "                state_space.append(states[i] + states[j] + states[k])\n",
    "\n",
    "len(state_space) "
   ]
  },
  {
   "cell_type": "code",
   "execution_count": 21,
   "metadata": {},
   "outputs": [],
   "source": [
    "np.save('static/fm.npy', state_space)"
   ]
  },
  {
   "cell_type": "code",
   "execution_count": 6,
   "metadata": {},
   "outputs": [],
   "source": [
    "P_sas = np.zeros((243, 3, 243))"
   ]
  },
  {
   "cell_type": "code",
   "execution_count": 27,
   "metadata": {},
   "outputs": [],
   "source": [
    "for i in range(len(state_space)):\n",
    "    for action in range(3):\n",
    "        for j in range(len(state_space)):\n",
    "            buffer_temp = [state_space[j][1+0*4], state_space[j][1+1*4], state_space[j][1+2*4]]\n",
    "            condition = [0, 0, 0]\n",
    "            condition[action] = -1\n",
    "            if condition==buffer_temp:\n",
    "                P_sas[i, action, j] = 1 * 1 * 1/3 * 1/3 * 1/3 * 1/3"
   ]
  },
  {
   "cell_type": "code",
   "execution_count": 29,
   "metadata": {},
   "outputs": [
    {
     "data": {
      "text/plain": [
       "1.0"
      ]
     },
     "execution_count": 29,
     "metadata": {},
     "output_type": "execute_result"
    }
   ],
   "source": [
    "P_sas[0, 0, :].sum()"
   ]
  },
  {
   "cell_type": "code",
   "execution_count": 28,
   "metadata": {},
   "outputs": [
    {
     "data": {
      "text/plain": [
       "0.012345679012345678"
      ]
     },
     "execution_count": 28,
     "metadata": {},
     "output_type": "execute_result"
    }
   ],
   "source": [
    "P_sas[0, 0, 162]"
   ]
  },
  {
   "cell_type": "code",
   "execution_count": null,
   "metadata": {},
   "outputs": [],
   "source": []
  },
  {
   "cell_type": "code",
   "execution_count": null,
   "metadata": {},
   "outputs": [],
   "source": []
  },
  {
   "cell_type": "code",
   "execution_count": 30,
   "metadata": {},
   "outputs": [
    {
     "data": {
      "text/plain": [
       "(array([  0,   0,   0, ..., 242, 242, 242], dtype=int64),\n",
       " array([0, 0, 0, ..., 2, 2, 2], dtype=int64),\n",
       " array([162, 163, 164, ..., 132, 133, 134], dtype=int64))"
      ]
     },
     "execution_count": 30,
     "metadata": {},
     "output_type": "execute_result"
    }
   ],
   "source": [
    "np.where(P_sas!=0)"
   ]
  },
  {
   "cell_type": "code",
   "execution_count": 32,
   "metadata": {},
   "outputs": [],
   "source": [
    "np.save('static/P_sas.npy', P_sas)"
   ]
  },
  {
   "cell_type": "markdown",
   "metadata": {},
   "source": [
    "# transform trajectories"
   ]
  },
  {
   "cell_type": "code",
   "execution_count": 28,
   "metadata": {},
   "outputs": [],
   "source": [
    "traj_num = 3\n",
    "traj_length = 1000\n",
    "feature_dim = 4\n",
    "user_num = 3\n",
    "traj = np.random.rand(traj_num, traj_length, feature_dim * user_num)"
   ]
  },
  {
   "cell_type": "code",
   "execution_count": 29,
   "metadata": {},
   "outputs": [],
   "source": [
    "traj_traj = np.zeros((traj.shape[0], traj.shape[1]-1, traj.shape[2]))"
   ]
  },
  {
   "cell_type": "code",
   "execution_count": 30,
   "metadata": {},
   "outputs": [],
   "source": [
    "for i in range(traj.shape[0]):\n",
    "    for j in range(traj.shape[1] - 1):\n",
    "        traj_traj[i][j] = traj[i][j+1] - traj[i][j]       "
   ]
  },
  {
   "cell_type": "code",
   "execution_count": 31,
   "metadata": {},
   "outputs": [
    {
     "data": {
      "text/plain": [
       "(3, 999, 12)"
      ]
     },
     "execution_count": 31,
     "metadata": {},
     "output_type": "execute_result"
    }
   ],
   "source": [
    "traj_traj.shape"
   ]
  },
  {
   "cell_type": "code",
   "execution_count": 32,
   "metadata": {},
   "outputs": [],
   "source": [
    "traj_traj[traj_traj < 0] = -1\n",
    "traj_traj[traj_traj == 0] = 0\n",
    "traj_traj[traj_traj > 0] = 1"
   ]
  },
  {
   "cell_type": "code",
   "execution_count": 33,
   "metadata": {},
   "outputs": [
    {
     "data": {
      "text/plain": [
       "array([[[ 1.,  1., -1., ...,  1.,  1.,  1.],\n",
       "        [ 1.,  1., -1., ..., -1.,  1., -1.],\n",
       "        [-1., -1.,  1., ...,  1.,  1., -1.],\n",
       "        ...,\n",
       "        [ 1.,  1.,  1., ..., -1., -1., -1.],\n",
       "        [-1., -1., -1., ..., -1.,  1., -1.],\n",
       "        [ 1., -1., -1., ...,  1., -1.,  1.]],\n",
       "\n",
       "       [[ 1.,  1., -1., ...,  1., -1.,  1.],\n",
       "        [-1., -1., -1., ..., -1.,  1.,  1.],\n",
       "        [ 1., -1., -1., ..., -1., -1.,  1.],\n",
       "        ...,\n",
       "        [-1., -1.,  1., ..., -1.,  1., -1.],\n",
       "        [ 1., -1., -1., ..., -1., -1.,  1.],\n",
       "        [-1., -1., -1., ...,  1.,  1.,  1.]],\n",
       "\n",
       "       [[ 1.,  1., -1., ..., -1.,  1.,  1.],\n",
       "        [ 1., -1., -1., ..., -1., -1., -1.],\n",
       "        [ 1., -1.,  1., ..., -1., -1.,  1.],\n",
       "        ...,\n",
       "        [ 1., -1.,  1., ..., -1., -1., -1.],\n",
       "        [ 1.,  1., -1., ...,  1.,  1.,  1.],\n",
       "        [-1.,  1., -1., ..., -1., -1.,  1.]]])"
      ]
     },
     "execution_count": 33,
     "metadata": {},
     "output_type": "execute_result"
    }
   ],
   "source": [
    "traj_traj"
   ]
  },
  {
   "cell_type": "code",
   "execution_count": null,
   "metadata": {},
   "outputs": [],
   "source": []
  },
  {
   "cell_type": "code",
   "execution_count": 37,
   "metadata": {},
   "outputs": [
    {
     "data": {
      "text/plain": [
       "array([ 1.,  1., -1.,  1.,  1., -1., -1.,  1.,  1., -1.,  1., -1.])"
      ]
     },
     "execution_count": 37,
     "metadata": {},
     "output_type": "execute_result"
    }
   ],
   "source": []
  },
  {
   "cell_type": "code",
   "execution_count": 41,
   "metadata": {},
   "outputs": [
    {
     "data": {
      "text/plain": [
       "array([[[[-0.11197133,  1.77739343],\n",
       "         [-2.39243058,  1.0339849 ]],\n",
       "\n",
       "        [[ 0.19350424, -1.10203993],\n",
       "         [-0.23832761, -0.98170958]],\n",
       "\n",
       "        [[ 0.87192846, -2.21031233],\n",
       "         [ 2.15028367, -1.47555313]]],\n",
       "\n",
       "\n",
       "       [[[-0.22456187,  1.20828155],\n",
       "         [-0.5189843 ,  0.29771908]],\n",
       "\n",
       "        [[ 0.24736783, -0.57777589],\n",
       "         [ 0.13368861, -0.95555907]],\n",
       "\n",
       "        [[-0.0518188 ,  1.37369582],\n",
       "         [-0.32002403,  1.00580567]]]])"
      ]
     },
     "execution_count": 41,
     "metadata": {},
     "output_type": "execute_result"
    }
   ],
   "source": [
    "a = np.random.randn(2,3,2,2)\n",
    "a"
   ]
  },
  {
   "cell_type": "code",
   "execution_count": 42,
   "metadata": {},
   "outputs": [
    {
     "data": {
      "text/plain": [
       "array([[[-0.11197133,  1.77739343, -2.39243058,  1.0339849 ],\n",
       "        [ 0.19350424, -1.10203993, -0.23832761, -0.98170958],\n",
       "        [ 0.87192846, -2.21031233,  2.15028367, -1.47555313]],\n",
       "\n",
       "       [[-0.22456187,  1.20828155, -0.5189843 ,  0.29771908],\n",
       "        [ 0.24736783, -0.57777589,  0.13368861, -0.95555907],\n",
       "        [-0.0518188 ,  1.37369582, -0.32002403,  1.00580567]]])"
      ]
     },
     "execution_count": 42,
     "metadata": {},
     "output_type": "execute_result"
    }
   ],
   "source": [
    "a.reshape(2,3,4)"
   ]
  },
  {
   "cell_type": "code",
   "execution_count": null,
   "metadata": {},
   "outputs": [],
   "source": []
  }
 ],
 "metadata": {
  "kernelspec": {
   "display_name": "Python 3",
   "language": "python",
   "name": "python3"
  },
  "language_info": {
   "codemirror_mode": {
    "name": "ipython",
    "version": 3
   },
   "file_extension": ".py",
   "mimetype": "text/x-python",
   "name": "python",
   "nbconvert_exporter": "python",
   "pygments_lexer": "ipython3",
   "version": "3.6.9"
  }
 },
 "nbformat": 4,
 "nbformat_minor": 4
}
